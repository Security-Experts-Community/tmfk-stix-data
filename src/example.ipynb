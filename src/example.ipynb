{
 "cells": [
  {
   "cell_type": "code",
   "execution_count": 2,
   "metadata": {},
   "outputs": [],
   "source": [
    "from constants import Mode, GET_TMFK_SOURCE\n",
    "path = \"../build/tmfk_attack_compatible.json\"\n",
    "\n",
    "source = GET_TMFK_SOURCE(mode=Mode.attack_compatible)\n",
    "def get_technique_id(technique):\n",
    "    return [r for r in technique.external_references if r.source_name == source][0].external_id"
   ]
  },
  {
   "cell_type": "markdown",
   "metadata": {},
   "source": [
    "# Get all TMFK tactics "
   ]
  },
  {
   "cell_type": "code",
   "execution_count": 3,
   "metadata": {},
   "outputs": [
    {
     "name": "stdout",
     "output_type": "stream",
     "text": [
      "Retrieved 10 ATRM tactics:\n",
      "- [MS-T0100] Initial Access\n",
      "- [MS-T0200] Execution\n",
      "- [MS-T0300] Persistence\n",
      "- [MS-T0400] Privilege Escalation\n",
      "- [MS-T0500] Defense Evasion\n",
      "- [MS-T0600] Credential Access\n",
      "- [MS-T0700] Discovery\n",
      "- [MS-T0800] Lateral Movement\n",
      "- [MS-T0900] Collection\n",
      "- [MS-T1000] Impact\n"
     ]
    }
   ],
   "source": [
    "from mitreattack.stix20 import MitreAttackData\n",
    "\n",
    "\n",
    "mitre_attack_data = MitreAttackData(path)\n",
    "tactics = mitre_attack_data.get_tactics(remove_revoked_deprecated=True)\n",
    "print(f\"Retrieved {len(tactics)} ATRM tactics:\")\n",
    "for technique in tactics:\n",
    "    id = get_technique_id(technique)\n",
    "    print(f\"- [{id}] {technique.name}\")\n",
    "\n"
   ]
  },
  {
   "cell_type": "markdown",
   "metadata": {},
   "source": [
    "\n",
    "# Get all TMFK techniques"
   ]
  },
  {
   "cell_type": "code",
   "execution_count": 4,
   "metadata": {},
   "outputs": [
    {
     "name": "stdout",
     "output_type": "stream",
     "text": [
      "Retrieved 40 ATRM techniques.\n",
      "-  [MS-TA9020] Access cloud resources\n",
      "-  [MS-TA9007] Bash or cmd inside container\n",
      "-  [MS-TA9019] Cluster-admin binding\n",
      "-  [MS-TA9018] Privileged container\n",
      "-  [MS-TA9029] Access Kubernetes API server\n",
      "-  [MS-TA9027] Application credentials in configuration files\n",
      "-  [MS-TA9038] Data destruction\n",
      "-  [MS-TA9041] Collecting data from pod\n",
      "-  [MS-TA9040] Denial of service\n",
      "-  [MS-TA9021] Clear container logs\n",
      "-  [MS-TA9011] Sidecar injection\n",
      "-  [MS-TA9028] Access Managed Identity credentials\n",
      "-  [MS-TA9014] Kubernetes CronJob\n",
      "-  [MS-TA9010] SSH server running inside container\n",
      "-  [MS-TA9008] New container\n",
      "-  [MS-TA9005] Exposed sensitive interfaces\n",
      "-  [MS-TA9022] Delete Kubernetes events\n",
      "-  [MS-TA9013] Writable hostPath mount\n",
      "-  [MS-TA9026] Mount service principal\n",
      "-  [MS-TA9009] Application exploit (RCE)\n",
      "-  [MS-TA9025] List Kubernetes secrets\n",
      "-  [MS-TA9036] ARP poisoning and IP spoofing\n",
      "-  [MS-TA9030] Access Kubelet API\n",
      "-  [MS-TA9003] Kubeconfig file\n",
      "-  [MS-TA9016] Container service account\n",
      "-  [MS-TA9006] Exec into container\n",
      "-  [MS-TA9031] Network mapping\n",
      "-  [MS-TA9033] Instance Metadata API\n",
      "-  [MS-TA9039] Resource hijacking\n",
      "-  [MS-TA9002] Compromised image In registry\n",
      "-  [MS-TA9001] Using cloud credentials\n",
      "-  [MS-TA9017] Static pods\n",
      "-  [MS-TA9035] CoreDNS poisoning\n",
      "-  [MS-TA9023] Pod or container name similarity\n",
      "-  [MS-TA9024] Connect from proxy server\n",
      "-  [MS-TA9015] Malicious admission controller\n",
      "-  [MS-TA9004] Application vulnerability\n",
      "-  [MS-TA9034] Cluster internal networking\n",
      "-  [MS-TA9012] Backdoor container\n",
      "-  [MS-TA9037] Images from a private registry\n"
     ]
    }
   ],
   "source": [
    "techniques = mitre_attack_data.get_techniques(remove_revoked_deprecated=True)\n",
    "print(f\"Retrieved {len(techniques)} ATRM techniques.\")\n",
    "for technique in techniques:\n",
    "    id = get_technique_id(technique)\n",
    "    print(f\"-  [{id}] {technique.name}\")"
   ]
  },
  {
   "cell_type": "markdown",
   "metadata": {},
   "source": [
    "# Get TMFK techniques by tactic name"
   ]
  },
  {
   "cell_type": "code",
   "execution_count": 5,
   "metadata": {},
   "outputs": [
    {
     "name": "stdout",
     "output_type": "stream",
     "text": [
      "Retrieved 6 ATRM execution techniques.\n",
      "-  [MS-TA9007] Bash or cmd inside container\n",
      "-  [MS-TA9011] Sidecar injection\n",
      "-  [MS-TA9010] SSH server running inside container\n",
      "-  [MS-TA9008] New container\n",
      "-  [MS-TA9009] Application exploit (RCE)\n",
      "-  [MS-TA9006] Exec into container\n"
     ]
    }
   ],
   "source": [
    "from constants import GET_TMFK_DOMAIN\n",
    "\n",
    "\n",
    "tactic = \"execution\"\n",
    "techniques = mitre_attack_data.get_techniques_by_tactic(tactic_shortname=tactic, domain=GET_TMFK_DOMAIN(), remove_revoked_deprecated=True)\n",
    "\n",
    "print(f\"Retrieved {len(techniques)} ATRM {tactic} techniques.\")\n",
    "for technique in techniques:\n",
    "    id = get_technique_id(technique)\n",
    "    print(f\"-  [{id}] {technique.name}\")"
   ]
  },
  {
   "cell_type": "markdown",
   "metadata": {},
   "source": [
    "# Get TMFK technique description by id"
   ]
  },
  {
   "cell_type": "code",
   "execution_count": 7,
   "metadata": {},
   "outputs": [
    {
     "name": "stdout",
     "output_type": "stream",
     "text": [
      "TMFK technique with ID = MS-TA9007:\n",
      "\tName: Bash or cmd inside container\n",
      "\tDescription: Attackers who have permissions to run a cmd/bash script inside a container can use it to execute malicious code and compromise cluster resources.\n"
     ]
    }
   ],
   "source": [
    "atrm_id = \"MS-TA9007\"\n",
    "technique = mitre_attack_data.get_object_by_attack_id(attack_id=atrm_id, stix_type=\"attack-pattern\") \n",
    "\n",
    "print(f\"TMFK technique with ID = {atrm_id}:\")\n",
    "print(f\"\\tName: {technique.name}\")\n",
    "print(f\"\\tDescription: {technique.description}\")"
   ]
  },
  {
   "cell_type": "markdown",
   "metadata": {},
   "source": [
    "# Get last commit hash"
   ]
  },
  {
   "cell_type": "code",
   "execution_count": 8,
   "metadata": {},
   "outputs": [
    {
     "name": "stdout",
     "output_type": "stream",
     "text": [
      "b885d18\n"
     ]
    }
   ],
   "source": [
    "from git_tools import get_last_commit_hash\n",
    "from constants import TMFK_PATH\n",
    "\n",
    "print(get_last_commit_hash(TMFK_PATH))\n"
   ]
  }
 ],
 "metadata": {
  "kernelspec": {
   "display_name": "atrm-stix-data",
   "language": "python",
   "name": "python3"
  },
  "language_info": {
   "codemirror_mode": {
    "name": "ipython",
    "version": 3
   },
   "file_extension": ".py",
   "mimetype": "text/x-python",
   "name": "python",
   "nbconvert_exporter": "python",
   "pygments_lexer": "ipython3",
   "version": "3.11.7"
  }
 },
 "nbformat": 4,
 "nbformat_minor": 2
}
